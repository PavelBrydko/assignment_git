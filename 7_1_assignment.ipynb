{
  "cells": [
    {
      "cell_type": "markdown",
      "metadata": {
        "id": "view-in-github",
        "colab_type": "text"
      },
      "source": [
        "<a href=\"https://colab.research.google.com/github/PavelBrydko/assignment_git/blob/master/7_1_assignment.ipynb\" target=\"_parent\"><img src=\"https://colab.research.google.com/assets/colab-badge.svg\" alt=\"Open In Colab\"/></a>"
      ]
    },
    {
      "cell_type": "markdown",
      "metadata": {
        "id": "K-xXkt9Ztf7J"
      },
      "source": [
        "# Assignment 7.1\n",
        "\n",
        "> Replace all TODOs with your code.\n",
        ">\n",
        "> Do not change any other code and do not add/remove cells!"
      ]
    },
    {
      "cell_type": "code",
      "execution_count": null,
      "metadata": {
        "id": "sGdc6BbbALg9"
      },
      "outputs": [],
      "source": [
        "# Do not edit this cell\n",
        "\n",
        "from typing import List, Dict"
      ]
    },
    {
      "cell_type": "markdown",
      "metadata": {
        "id": "cfhcjaX0vXXa"
      },
      "source": [
        "## Clients"
      ]
    },
    {
      "cell_type": "markdown",
      "source": [],
      "metadata": {
        "id": "l1AUVeV716rg"
      }
    },
    {
      "cell_type": "markdown",
      "metadata": {
        "id": "Vlz14hyr6wV6"
      },
      "source": [
        "### Task 1\n",
        "\n",
        "Write a function that takes a GitHub repository name as input and uses the [GitHub Repository API](https://docs.github.com/en/rest/repos) to retrieve and return information about the specified repository, including:\n",
        "\n",
        "* Repository Name\n",
        "* Owner\n",
        "* Description\n",
        "* License (if available)\n",
        "* Creation Date\n",
        "\n",
        "Use the `requests` module for this task."
      ]
    },
    {
      "cell_type": "code",
      "execution_count": null,
      "metadata": {
        "id": "vDYn-dRb7xIX",
        "colab": {
          "base_uri": "https://localhost:8080/"
        },
        "outputId": "de02d15d-a9ed-40e7-8bf0-4da9e5071e20"
      },
      "outputs": [
        {
          "output_type": "stream",
          "name": "stdout",
          "text": [
            "Repository Name: Hello-World\n",
            "Owner: {'login': 'octocat', 'id': 583231, 'node_id': 'MDQ6VXNlcjU4MzIzMQ==', 'avatar_url': 'https://avatars.githubusercontent.com/u/583231?v=4', 'gravatar_id': '', 'url': 'https://api.github.com/users/octocat', 'html_url': 'https://github.com/octocat', 'followers_url': 'https://api.github.com/users/octocat/followers', 'following_url': 'https://api.github.com/users/octocat/following{/other_user}', 'gists_url': 'https://api.github.com/users/octocat/gists{/gist_id}', 'starred_url': 'https://api.github.com/users/octocat/starred{/owner}{/repo}', 'subscriptions_url': 'https://api.github.com/users/octocat/subscriptions', 'organizations_url': 'https://api.github.com/users/octocat/orgs', 'repos_url': 'https://api.github.com/users/octocat/repos', 'events_url': 'https://api.github.com/users/octocat/events{/privacy}', 'received_events_url': 'https://api.github.com/users/octocat/received_events', 'type': 'User', 'user_view_type': 'public', 'site_admin': False}\n",
            "License: None\n",
            "Description: My first repository on GitHub!\n",
            "Creation Date: 2011-01-26T19:01:12Z\n"
          ]
        }
      ],
      "source": [
        "import requests\n",
        "\n",
        "def get_repository_info(repo_name):\n",
        "    url = \"https://api.github.com/repos/\" + repo_name\n",
        "    try:\n",
        "        resp = requests.get(url)\n",
        "        if resp.status_code != 200:\n",
        "            print(\"Error! Status code:\", resp.status_code)\n",
        "            return\n",
        "        try:\n",
        "            data = resp.json()\n",
        "        except:\n",
        "            print(\"Error! Cannot parse JSON\")\n",
        "            return\n",
        "\n",
        "        print(\"Repository Name:\", data.get(\"name\"))\n",
        "        print(\"Owner:\", data.get(\"owner\", {}).get(\"login\"))\n",
        "        print(\"Description:\", data.get(\"description\"))\n",
        "        if data.get(\"license\"):\n",
        "            print(\"License:\", data[\"license\"].get(\"name\"))\n",
        "        else:\n",
        "            print(\"License: None\")\n",
        "        print(\"Creation Date:\", data.get(\"created_at\"))\n",
        "\n",
        "    except Exception as e:\n",
        "        print(\"Request failed:\", e)\n",
        "\n",
        "get_repository_info(\"octocat/Hello-World\")\n",
        "\n",
        "\n",
        "# import requests\n",
        "# def get_repository_info(repo_name: str) -> Dict[str, str]:\n",
        "\n",
        "#   url = 'https://api.github.com/repos/' + repo_name\n",
        "#   response = requests.get(url)\n",
        "#   data = response.json()\n",
        "\n",
        "#   print(\"Repository Name:\", data[\"name\"])\n",
        "#   print(\"Owner:\", data[\"owner\"])\n",
        "#   print(\"License:\", data[\"license\"])\n",
        "#   print(\"Description:\", data[\"description\"])\n",
        "#   print(\"Creation Date:\", data[\"created_at\"])\n",
        "\n",
        "# get_repository_info(\"octocat/Hello-World\")"
      ]
    },
    {
      "cell_type": "markdown",
      "metadata": {
        "id": "0TC34gv79VEo"
      },
      "source": [
        "### Task 2\n",
        "\n",
        "Write a function that takes a GitHub repository name and uses the [GitHub Commits API](https://docs.github.com/en/rest/commits/commits) to retrieve and return information about the five most recent commits in a selected GitHub repository, including:\n",
        "* Commit Message\n",
        "* Author\n",
        "* Date\n",
        "* Link to the commit on GitHub\n",
        "\n",
        "Use the `requests` module for this task."
      ]
    },
    {
      "cell_type": "code",
      "execution_count": null,
      "metadata": {
        "id": "Kf2284dT-atu",
        "colab": {
          "base_uri": "https://localhost:8080/"
        },
        "outputId": "f09e0ae0-73bc-48a6-b07d-a5ab60e5cc47"
      },
      "outputs": [
        {
          "output_type": "execute_result",
          "data": {
            "text/plain": [
              "[{'Commit Message': 'Merge pull request #6 from Spaceghost/patch-1\\n\\nNew line at end of file.',\n",
              "  'Author': 'The Octocat',\n",
              "  'Date': '2012-03-06T23:06:50Z',\n",
              "  'URL': 'https://github.com/octocat/Hello-World/commit/7fd1a60b01f91b314f59955a4e4d4e80d8edf11d'},\n",
              " {'Commit Message': 'New line at end of file. --Signed off by Spaceghost',\n",
              "  'Author': 'Johnneylee Jack Rollins',\n",
              "  'Date': '2011-09-14T04:42:41Z',\n",
              "  'URL': 'https://github.com/octocat/Hello-World/commit/762941318ee16e59dabbacb1b4049eec22f0d303'},\n",
              " {'Commit Message': 'first commit',\n",
              "  'Author': 'cameronmcefee',\n",
              "  'Date': '2011-01-26T19:06:08Z',\n",
              "  'URL': 'https://github.com/octocat/Hello-World/commit/553c2077f0edc3d5dc5d17262f6aa498e69d6f8e'}]"
            ]
          },
          "metadata": {},
          "execution_count": 43
        }
      ],
      "source": [
        "import requests\n",
        "\n",
        "def get_recent_commits(repo_name, n=5):\n",
        "    url = \"https://api.github.com/repos/\" + repo_name + \"/commits\"\n",
        "    try:\n",
        "        resp = requests.get(url, params={\"per_page\": n})\n",
        "        if resp.status_code != 200:\n",
        "            print(\"Error! Status code:\", resp.status_code)\n",
        "            return []\n",
        "        try:\n",
        "            data = resp.json()\n",
        "        except:\n",
        "            print(\"Error! Cannot parse JSON\")\n",
        "            return []\n",
        "\n",
        "        result = []\n",
        "        for obj in data:\n",
        "            commit = obj.get(\"commit\", {})\n",
        "            author_block = commit.get(\"author\", {}) or {}\n",
        "            gh_author = (obj.get(\"author\") or {})\n",
        "\n",
        "            author_name = author_block.get(\"name\") or gh_author.get(\"login\") or \"Unknown\"\n",
        "\n",
        "            item = {\n",
        "                \"Commit Message\": commit.get(\"message\", \"\"),\n",
        "                \"Author\": author_name,\n",
        "                \"Date\": author_block.get(\"date\", \"\"),\n",
        "                \"URL\": obj.get(\"html_url\", \"\")\n",
        "            }\n",
        "            result.append(item)\n",
        "\n",
        "        for it in result:\n",
        "            print(\"Commit Message:\", it[\"Commit Message\"])\n",
        "            print(\"Author:\", it[\"Author\"])\n",
        "            print(\"Date:\", it[\"Date\"])\n",
        "            print(\"URL:\", it[\"URL\"])\n",
        "            print(\"-\" * 20)\n",
        "\n",
        "        return result\n",
        "\n",
        "    except Exception as e:\n",
        "        print(\"Request failed:\", e)\n",
        "        return []\n",
        "\n",
        "get_recent_commits(\"octocat/Hello-World\", n=5)\n",
        "\n",
        "\n",
        "# import requests\n",
        "\n",
        "# def get_recent_commits(repo_name: str) -> List[Dict[str, str]]:\n",
        "\n",
        "#     url = \"https://api.github.com/repos/octocat/Hello-World/commits\"\n",
        "#     resp = requests.get(url)\n",
        "#     data = resp.json()\n",
        "\n",
        "#     recent_comits = data[0:5]\n",
        "\n",
        "#     # print (recent_comits)\n",
        "\n",
        "#     my_info_dict = []\n",
        "\n",
        "#     for obj in recent_comits:\n",
        "#         commit_info = {\n",
        "#             \"Commit Message\": obj[\"commit\"][\"message\"],\n",
        "#             \"Author\": obj[\"commit\"][\"author\"][\"name\"],\n",
        "#             \"Date\": obj[\"commit\"][\"author\"][\"date\"],\n",
        "#             \"URL\": obj[\"html_url\"]\n",
        "#         }\n",
        "#         my_info_dict.append(commit_info)\n",
        "\n",
        "#     return my_info_dict\n",
        "\n",
        "# get_recent_commits(\"octocat/Hello-World\")\n",
        "\n",
        "\n",
        "# print(my_info_dict)\n"
      ]
    },
    {
      "cell_type": "code",
      "source": [],
      "metadata": {
        "id": "AJEMd1pe7tjC"
      },
      "execution_count": null,
      "outputs": []
    }
  ],
  "metadata": {
    "colab": {
      "provenance": [],
      "include_colab_link": true
    },
    "kernelspec": {
      "display_name": "Python 3",
      "name": "python3"
    },
    "language_info": {
      "name": "python"
    }
  },
  "nbformat": 4,
  "nbformat_minor": 0
}